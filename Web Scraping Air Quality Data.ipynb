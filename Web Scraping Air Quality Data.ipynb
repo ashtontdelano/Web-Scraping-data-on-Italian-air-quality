{
 "cells": [
  {
   "cell_type": "code",
   "execution_count": 2,
   "metadata": {
    "collapsed": true
   },
   "outputs": [],
   "source": [
    "#Import urllib.request\n",
    "import urllib.request"
   ]
  },
  {
   "cell_type": "code",
   "execution_count": 3,
   "metadata": {
    "collapsed": false
   },
   "outputs": [],
   "source": [
    "#Open web page\n",
    "page = urllib.request.urlopen('http://www.arpalazio.net/main/aria/sci/basedati/chimici/BDchimici/RM/DatiOrari/RM_CO_2010.txt').read()"
   ]
  },
  {
   "cell_type": "code",
   "execution_count": 4,
   "metadata": {
    "collapsed": false
   },
   "outputs": [],
   "source": [
    "#Decode web page into string\n",
    "page = page.decode(\"utf-8\")"
   ]
  },
  {
   "cell_type": "code",
   "execution_count": 6,
   "metadata": {
    "collapsed": false
   },
   "outputs": [
    {
     "data": {
      "text/plain": [
       "'  jd  h      2      3      5      8     10     11     14     15     16     38     39     40     41     45     47     48     49     55     56     57\\n   1  1 -999.0    0.6    0.4    0.2 -999.0 -999.0 -999.0    0.3 -999.0 -999.0    0.4 -999.0 -999.0 -999.0    0.2 -999.0    0.4    0.6 -999.0 -999.0\\n   1  2 -999.0    1.1    0.6    0.5 -999.0 -999.0 -999.0    0.3 -999.0 -999.0    0.4 -999.0 -999.0 -999.0    0.7 -999.0    0.8    0.7 -999.0 -999.0\\n   1  3 -999.0    1.0    0.8    0.3 -999.0 -999.0 -999.0    0.3 -999.0 -999.0    0.6 -999.0 -999.0 -999.0    1.3 -999.0    1.3    0.8 -999.0 -999.0\\n   1  4 -999.0    0.7    0.5    0.2 -999.0 -999.0 -999.0    0.3 -999.0 -999.0    0.5 -999.0 -999.0 -999.0    0.8 -999.0    0.7    0.7 -999.0 -999.0\\n   1  5 -999.0    0.7    0.4    0.2 -999.0 -999.0 -999.0    0.3 -999.0 -999.0    0.6 -999.0 -999.0 -999.0    0.7 -999.0    0.5    0.7 -999.0 -999.0\\n   1  6 -999.0    0.6    0.4    0.2 -999.0 -999.0 -999.0    0.3 -999.0 -999.0    0.4 -999.0 -999.0 -999.0    0.4'"
      ]
     },
     "execution_count": 6,
     "metadata": {},
     "output_type": "execute_result"
    }
   ],
   "source": [
    "#We have a lot of empty space between our variables, and it is difficult to delinate columns. However, \\n characters define our rows\n",
    "page[0:1000]"
   ]
  },
  {
   "cell_type": "code",
   "execution_count": 7,
   "metadata": {
    "collapsed": false
   },
   "outputs": [
    {
     "data": {
      "text/plain": [
       "'day,hour,2,3,5,8,10,11,14,15,16,38,39,40,41,45,47,48,49,55,56,57\\n 1,1,-999.0,0.6,0.4,0.2,-999.0,-999.0,-999.0,0.3,-999.0,-999.0,0.4,-999.0,-999.0,-999.0,0.2,-999.0,0.4,0.6,-999.0,-999.0\\n 1,2,-999.0,1.1,0.6,0.5,-999.0,-999.0,-999.0,0.3,-999.0,-999.0,0.4,-999.0,-999.0,-999.0,0.7,-999.0,0.8,0.7,-999.0,-999.0\\n 1,3,-999.0,1.0,0.8,0.3,-999.0,-999.0,-999.0,0.3,-999.0,-999.0,0.6,-999.0,-999.0,-999.0,1.3,-999.0,1.3,0.8,-999.0,-999.0\\n 1,4,-999.0,0.7,0.5,0.2,-999.0,-999.0,-999.0,0.3,-999.0,-999.0,0.5,-999.0,-999.0,-999.0,0.8,-999.0,0.7,0.7,-999.0,-999.0\\n 1,5,-999.0,0.7,0.4,0.2,-999.0,-999.0,-999.0,0.3,-999.0,-999.0,0.6,-999.0,-999.0,-999.0,0.7,-999.0,0.5,0.7,-999.0,-999.0\\n 1,6,-999.0,0.6,0.4,0.2,-999.0,-999.0,-999.0,0.3,-999.0,-999.0,0.4,-999.0,-999.0,-999.0,0.4,-999.0,0.5,0.6,-999.0,-999.0\\n 1,7,-999.0,0.5,0.4,0.1,-999.0,-999.0,-999.0,0.3,-999.0,-999.0,0.3,-999.0,-999.0,-999.0,0.2,-999.0,0.3,0.5,-999.0,-999.0\\n 1,8,-999.0,0.5,0.4,0.1,-999.0,-999.0,-999.0,0.2,-999.0,-999.0,0.4,-999.0,-999.0,-999.0,'"
      ]
     },
     "execution_count": 7,
     "metadata": {},
     "output_type": "execute_result"
    }
   ],
   "source": [
    "#This replaces the space between each character with a comma, creating a pseudo-CSV.\n",
    "#Order is important. The largest spaces need to be replaced first, otherwise the code will place multiple commas between two values\n",
    "#We also replace jd with day and h with hour\n",
    "page = page.replace('       ', ',').replace('      ', ',').replace('     ', ',').replace('    ', ',').replace('   ', ',').replace('  ', ',').replace(' ', ',').replace('\\n,', '\\n ').replace(',jd', 'day').replace('h', 'hour')\n",
    "page[0:1000]"
   ]
  },
  {
   "cell_type": "code",
   "execution_count": 8,
   "metadata": {
    "collapsed": false
   },
   "outputs": [],
   "source": [
    "#Here we open a new CSV in write mode, write our string to the CSV and close it\n",
    "f = open('Test Data.csv','w')\n",
    "f.write(page)\n",
    "f.close()"
   ]
  },
  {
   "cell_type": "code",
   "execution_count": null,
   "metadata": {
    "collapsed": false
   },
   "outputs": [],
   "source": [
    "#this for loop iterates over 6 years of data, note the .format() on both the CSV name and url\n",
    "\n",
    "for year in range(2010, 2017):\n",
    "    f = open('CO Data {}.csv'.format(year), 'w')\n",
    "    page = urllib.request.urlopen('http://www.arpalazio.net/main/aria/sci/basedati/chimici/BDchimici/RM/DatiOrari/RM_CO_{}.txt'.format(year)).read()\n",
    "    page = page.decode(\"utf-8\")\n",
    "    page = page.replace('       ', ',').replace('      ', ',').replace('     ', ',').replace('    ', ',').replace('   ', ',').replace('  ', ',').replace(' ', ',').replace('\\n,', '\\n ').replace(',jd', 'day').replace('h', 'hour')\n",
    "    f.write(page)\n",
    "    f.close()"
   ]
  }
 ],
 "metadata": {
  "kernelspec": {
   "display_name": "Python 3",
   "language": "python",
   "name": "python3"
  },
  "language_info": {
   "codemirror_mode": {
    "name": "ipython",
    "version": 3
   },
   "file_extension": ".py",
   "mimetype": "text/x-python",
   "name": "python",
   "nbconvert_exporter": "python",
   "pygments_lexer": "ipython3",
   "version": "3.6.0"
  }
 },
 "nbformat": 4,
 "nbformat_minor": 2
}
